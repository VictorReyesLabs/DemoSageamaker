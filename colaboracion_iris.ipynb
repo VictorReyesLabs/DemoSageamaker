{
 "cells": [
  {
   "cell_type": "code",
   "execution_count": 2,
   "id": "7e029daa-749c-46ea-b16c-138bba808cbc",
   "metadata": {},
   "outputs": [
    {
     "name": "stdout",
     "output_type": "stream",
     "text": [
      "Trying to create a Glue session for the kernel.\n",
      "Session Type: etl\n",
      "Session ID: 01b9afb6-e4fd-46ac-9d53-6257b3d1305c\n",
      "Applying the following default arguments:\n",
      "--glue_kernel_version 1.0.9\n",
      "--enable-glue-datacatalog true\n"
     ]
    },
    {
     "name": "stderr",
     "output_type": "stream",
     "text": [
      "Following exception encountered while creating session: An error occurred (AccessDeniedException) when calling the CreateSession operation: User: arn:aws:sts::878436877007:assumed-role/SageMaker-ExecutionRole-20250603T141511/SageMaker is not authorized to perform: glue:CreateSession on resource: arn:aws:glue:us-east-1:878436877007:session/01b9afb6-e4fd-46ac-9d53-6257b3d1305c because no identity-based policy allows the glue:CreateSession action \n",
      "\n",
      "Error message: User: arn:aws:sts::878436877007:assumed-role/SageMaker-ExecutionRole-20250603T141511/SageMaker is not authorized to perform: glue:CreateSession on resource: arn:aws:glue:us-east-1:878436877007:session/01b9afb6-e4fd-46ac-9d53-6257b3d1305c because no identity-based policy allows the glue:CreateSession action \n",
      "\n",
      "Traceback (most recent call last):\n",
      "  File \"/opt/conda/lib/python3.12/site-packages/aws_glue_interactive_sessions_kernel/glue_kernel_utils/KernelGateway.py\", line 104, in create_session\n",
      "    response = self.glue_client.create_session(\n",
      "               ^^^^^^^^^^^^^^^^^^^^^^^^^^^^^^^^\n",
      "  File \"/opt/conda/lib/python3.12/site-packages/botocore/client.py\", line 569, in _api_call\n",
      "    return self._make_api_call(operation_name, kwargs)\n",
      "           ^^^^^^^^^^^^^^^^^^^^^^^^^^^^^^^^^^^^^^^^^^^\n",
      "  File \"/opt/conda/lib/python3.12/site-packages/botocore/client.py\", line 1023, in _make_api_call\n",
      "    raise error_class(parsed_response, operation_name)\n",
      "botocore.errorfactory.AccessDeniedException: An error occurred (AccessDeniedException) when calling the CreateSession operation: User: arn:aws:sts::878436877007:assumed-role/SageMaker-ExecutionRole-20250603T141511/SageMaker is not authorized to perform: glue:CreateSession on resource: arn:aws:glue:us-east-1:878436877007:session/01b9afb6-e4fd-46ac-9d53-6257b3d1305c because no identity-based policy allows the glue:CreateSession action\n",
      "Exception encountered while creating session: An error occurred (AccessDeniedException) when calling the CreateSession operation: User: arn:aws:sts::878436877007:assumed-role/SageMaker-ExecutionRole-20250603T141511/SageMaker is not authorized to perform: glue:CreateSession on resource: arn:aws:glue:us-east-1:878436877007:session/01b9afb6-e4fd-46ac-9d53-6257b3d1305c because no identity-based policy allows the glue:CreateSession action \n",
      "Traceback (most recent call last):\n",
      "  File \"/opt/conda/lib/python3.12/site-packages/aws_glue_interactive_sessions_kernel/glue_kernel_base/BaseKernel.py\", line 168, in do_execute\n",
      "    self.create_session()\n",
      "  File \"/opt/conda/lib/python3.12/site-packages/aws_glue_interactive_sessions_kernel/glue_kernel_base/BaseKernel.py\", line 592, in create_session\n",
      "    response = self.kernel_gateway.create_session(\n",
      "               ^^^^^^^^^^^^^^^^^^^^^^^^^^^^^^^^^^^\n",
      "  File \"/opt/conda/lib/python3.12/site-packages/aws_glue_interactive_sessions_kernel/glue_kernel_utils/KernelGateway.py\", line 104, in create_session\n",
      "    response = self.glue_client.create_session(\n",
      "               ^^^^^^^^^^^^^^^^^^^^^^^^^^^^^^^^\n",
      "  File \"/opt/conda/lib/python3.12/site-packages/botocore/client.py\", line 569, in _api_call\n",
      "    return self._make_api_call(operation_name, kwargs)\n",
      "           ^^^^^^^^^^^^^^^^^^^^^^^^^^^^^^^^^^^^^^^^^^^\n",
      "  File \"/opt/conda/lib/python3.12/site-packages/botocore/client.py\", line 1023, in _make_api_call\n",
      "    raise error_class(parsed_response, operation_name)\n",
      "botocore.errorfactory.AccessDeniedException: An error occurred (AccessDeniedException) when calling the CreateSession operation: User: arn:aws:sts::878436877007:assumed-role/SageMaker-ExecutionRole-20250603T141511/SageMaker is not authorized to perform: glue:CreateSession on resource: arn:aws:glue:us-east-1:878436877007:session/01b9afb6-e4fd-46ac-9d53-6257b3d1305c because no identity-based policy allows the glue:CreateSession action\n"
     ]
    }
   ],
   "source": [
    "import pandas as pd\n",
    "from sklearn.datasets import load_iris\n",
    "from sklearn.model_selection import train_test_split\n",
    "import sagemaker\n",
    "import boto3"
   ]
  },
  {
   "cell_type": "code",
   "execution_count": null,
   "id": "389b0826-df23-43be-915b-b2a3a44f5cd4",
   "metadata": {},
   "outputs": [],
   "source": []
  }
 ],
 "metadata": {
  "kernelspec": {
   "display_name": "Glue PySpark",
   "language": "python",
   "name": "glue_pyspark"
  },
  "language_info": {
   "codemirror_mode": {
    "name": "python",
    "version": 3
   },
   "file_extension": ".py",
   "mimetype": "text/x-python",
   "name": "Python_Glue_Session",
   "pygments_lexer": "python3"
  }
 },
 "nbformat": 4,
 "nbformat_minor": 5
}
