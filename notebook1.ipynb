{
 "cells": [
  {
   "cell_type": "code",
   "execution_count": 13,
   "id": "4bc90b40-e5a1-4376-b632-338ac526cc4f",
   "metadata": {
    "execution": {
     "iopub.execute_input": "2025-06-03T22:43:47.402555Z",
     "iopub.status.busy": "2025-06-03T22:43:47.402257Z",
     "iopub.status.idle": "2025-06-03T22:43:48.848287Z",
     "shell.execute_reply": "2025-06-03T22:43:48.847240Z",
     "shell.execute_reply.started": "2025-06-03T22:43:47.402533Z"
    }
   },
   "outputs": [
    {
     "name": "stdout",
     "output_type": "stream",
     "text": [
      "--- Colaborador A Iniciando ---\n",
      "Usando bucket S3: s3://mi-bucket-sagemaker-colaboracion-2025/iris-collab-data\n",
      "Datos de Iris cargados y divididos.\n",
      "Creando nuevo experimento: Iris-Clasificacion-Colaborativa-abc\n"
     ]
    },
    {
     "data": {
      "text/html": [
       "<pre style=\"white-space:pre;overflow-x:auto;line-height:normal;font-family:Menlo,'DejaVu Sans Mono',consolas,'Courier New',monospace\"><span style=\"color: #ff0000; text-decoration-color: #ff0000\">╭─────────────────────────────── </span><span style=\"color: #ff0000; text-decoration-color: #ff0000; font-weight: bold\">Traceback </span><span style=\"color: #ff7f7f; text-decoration-color: #ff7f7f; font-weight: bold\">(most recent call last)</span><span style=\"color: #ff0000; text-decoration-color: #ff0000\"> ────────────────────────────────╮</span>\n",
       "<span style=\"color: #ff0000; text-decoration-color: #ff0000\">│</span> in &lt;module&gt;:64                                                                                   <span style=\"color: #ff0000; text-decoration-color: #ff0000\">│</span>\n",
       "<span style=\"color: #ff0000; text-decoration-color: #ff0000\">│</span>                                                                                                  <span style=\"color: #ff0000; text-decoration-color: #ff0000\">│</span>\n",
       "<span style=\"color: #ff0000; text-decoration-color: #ff0000\">│</span>   <span style=\"color: #7f7f7f; text-decoration-color: #7f7f7f\">61 </span><span style=\"color: #7f7f7f; text-decoration-color: #7f7f7f\">│   </span>predictions_logreg = model_logreg.predict(X_test)                                       <span style=\"color: #ff0000; text-decoration-color: #ff0000\">│</span>\n",
       "<span style=\"color: #ff0000; text-decoration-color: #ff0000\">│</span>   <span style=\"color: #7f7f7f; text-decoration-color: #7f7f7f\">62 </span><span style=\"color: #7f7f7f; text-decoration-color: #7f7f7f\">│   </span>accuracy_logreg = accuracy_score(y_test, predictions_logreg)                            <span style=\"color: #ff0000; text-decoration-color: #ff0000\">│</span>\n",
       "<span style=\"color: #ff0000; text-decoration-color: #ff0000\">│</span>   <span style=\"color: #7f7f7f; text-decoration-color: #7f7f7f\">63 </span><span style=\"color: #7f7f7f; text-decoration-color: #7f7f7f\">│   </span>                                                                                        <span style=\"color: #ff0000; text-decoration-color: #ff0000\">│</span>\n",
       "<span style=\"color: #ff0000; text-decoration-color: #ff0000\">│</span> <span style=\"color: #800000; text-decoration-color: #800000\">❱ </span>64 <span style=\"color: #7f7f7f; text-decoration-color: #7f7f7f\">│   </span><span style=\"font-weight: bold; text-decoration: underline\">run.log_metrics</span>({<span style=\"color: #808000; text-decoration-color: #808000\">\"accuracy\"</span>: accuracy_logreg, <span style=\"color: #808000; text-decoration-color: #808000\">\"colaborador\"</span>: <span style=\"color: #808000; text-decoration-color: #808000\">\"A\"</span>})                      <span style=\"color: #ff0000; text-decoration-color: #ff0000\">│</span>\n",
       "<span style=\"color: #ff0000; text-decoration-color: #ff0000\">│</span>   <span style=\"color: #7f7f7f; text-decoration-color: #7f7f7f\">65 </span><span style=\"color: #7f7f7f; text-decoration-color: #7f7f7f\">│   </span><span style=\"color: #00ffff; text-decoration-color: #00ffff\">print</span>(<span style=\"color: #808000; text-decoration-color: #808000\">f\"Colaborador A: Precisión del modelo de Regresión Logística: {</span>accuracy_logreg    <span style=\"color: #ff0000; text-decoration-color: #ff0000\">│</span>\n",
       "<span style=\"color: #ff0000; text-decoration-color: #ff0000\">│</span>   <span style=\"color: #7f7f7f; text-decoration-color: #7f7f7f\">66 </span><span style=\"color: #7f7f7f; text-decoration-color: #7f7f7f\">│   </span>                                                                                        <span style=\"color: #ff0000; text-decoration-color: #ff0000\">│</span>\n",
       "<span style=\"color: #ff0000; text-decoration-color: #ff0000\">│</span>   <span style=\"color: #7f7f7f; text-decoration-color: #7f7f7f\">67 </span><span style=\"color: #7f7f7f; text-decoration-color: #7f7f7f\">│   </span><span style=\"color: #7f7f7f; text-decoration-color: #7f7f7f\"># Guardar el modelo para este experimento (opcional, pero buena práctica)</span>               <span style=\"color: #ff0000; text-decoration-color: #ff0000\">│</span>\n",
       "<span style=\"color: #ff0000; text-decoration-color: #ff0000\">╰──────────────────────────────────────────────────────────────────────────────────────────────────╯</span>\n",
       "<span style=\"color: #ff0000; text-decoration-color: #ff0000; font-weight: bold\">AttributeError: </span><span style=\"color: #008700; text-decoration-color: #008700\">'Run'</span> object has no attribute <span style=\"color: #008700; text-decoration-color: #008700\">'log_metrics'</span>\n",
       "</pre>\n"
      ],
      "text/plain": [
       "\u001b[38;2;255;0;0m╭─\u001b[0m\u001b[38;2;255;0;0m──────────────────────────────\u001b[0m\u001b[38;2;255;0;0m \u001b[0m\u001b[1;38;2;255;0;0mTraceback \u001b[0m\u001b[1;2;38;2;255;0;0m(most recent call last)\u001b[0m\u001b[38;2;255;0;0m \u001b[0m\u001b[38;2;255;0;0m───────────────────────────────\u001b[0m\u001b[38;2;255;0;0m─╮\u001b[0m\n",
       "\u001b[38;2;255;0;0m│\u001b[0m in <module>:64                                                                                   \u001b[38;2;255;0;0m│\u001b[0m\n",
       "\u001b[38;2;255;0;0m│\u001b[0m                                                                                                  \u001b[38;2;255;0;0m│\u001b[0m\n",
       "\u001b[38;2;255;0;0m│\u001b[0m   \u001b[2m61 \u001b[0m\u001b[2m│   \u001b[0mpredictions_logreg = model_logreg.predict(X_test)                                       \u001b[38;2;255;0;0m│\u001b[0m\n",
       "\u001b[38;2;255;0;0m│\u001b[0m   \u001b[2m62 \u001b[0m\u001b[2m│   \u001b[0maccuracy_logreg = accuracy_score(y_test, predictions_logreg)                            \u001b[38;2;255;0;0m│\u001b[0m\n",
       "\u001b[38;2;255;0;0m│\u001b[0m   \u001b[2m63 \u001b[0m\u001b[2m│   \u001b[0m                                                                                        \u001b[38;2;255;0;0m│\u001b[0m\n",
       "\u001b[38;2;255;0;0m│\u001b[0m \u001b[31m❱ \u001b[0m64 \u001b[2m│   \u001b[0m\u001b[1;4mrun.log_metrics\u001b[0m({\u001b[33m\"\u001b[0m\u001b[33maccuracy\u001b[0m\u001b[33m\"\u001b[0m: accuracy_logreg, \u001b[33m\"\u001b[0m\u001b[33mcolaborador\u001b[0m\u001b[33m\"\u001b[0m: \u001b[33m\"\u001b[0m\u001b[33mA\u001b[0m\u001b[33m\"\u001b[0m})                      \u001b[38;2;255;0;0m│\u001b[0m\n",
       "\u001b[38;2;255;0;0m│\u001b[0m   \u001b[2m65 \u001b[0m\u001b[2m│   \u001b[0m\u001b[96mprint\u001b[0m(\u001b[33mf\u001b[0m\u001b[33m\"\u001b[0m\u001b[33mColaborador A: Precisión del modelo de Regresión Logística: \u001b[0m\u001b[33m{\u001b[0maccuracy_logreg    \u001b[38;2;255;0;0m│\u001b[0m\n",
       "\u001b[38;2;255;0;0m│\u001b[0m   \u001b[2m66 \u001b[0m\u001b[2m│   \u001b[0m                                                                                        \u001b[38;2;255;0;0m│\u001b[0m\n",
       "\u001b[38;2;255;0;0m│\u001b[0m   \u001b[2m67 \u001b[0m\u001b[2m│   \u001b[0m\u001b[2m# Guardar el modelo para este experimento (opcional, pero buena práctica)\u001b[0m               \u001b[38;2;255;0;0m│\u001b[0m\n",
       "\u001b[38;2;255;0;0m╰──────────────────────────────────────────────────────────────────────────────────────────────────╯\u001b[0m\n",
       "\u001b[1;91mAttributeError: \u001b[0m\u001b[38;2;0;135;0m'Run'\u001b[0m object has no attribute \u001b[38;2;0;135;0m'log_metrics'\u001b[0m\n"
      ]
     },
     "metadata": {},
     "output_type": "display_data"
    }
   ],
   "source": [
    "# Colaborador A: Configuración y Preparación de Datos\n",
    "\n",
    "import pandas as pd\n",
    "from sklearn.datasets import load_iris\n",
    "from sklearn.model_selection import train_test_split\n",
    "from sklearn.linear_model import LogisticRegression\n",
    "from sklearn.metrics import accuracy_score\n",
    "import sagemaker\n",
    "from sagemaker.experiments import Experiment, Run\n",
    "import os\n",
    "import joblib\n",
    "\n",
    "print(\"--- Colaborador A Iniciando ---\")\n",
    "\n",
    "# 1. Configurar la Sesión de SageMaker y el Bucket S3\n",
    "sagemaker_session = sagemaker.Session()\n",
    "role = sagemaker.get_execution_role()\n",
    "\n",
    "# *** REEMPLAZA ESTO CON EL NOMBRE DE TU BUCKET S3 REAL ***\n",
    "bucket = 'mi-bucket-sagemaker-colaboracion-2025'\n",
    "prefix = 'iris-collab-data' # Carpeta para los datos\n",
    "\n",
    "print(f\"Usando bucket S3: s3://{bucket}/{prefix}\")\n",
    "\n",
    "# 2. Cargar y Preparar el Conjunto de Datos Iris\n",
    "iris = load_iris()\n",
    "X = pd.DataFrame(iris.data, columns=iris.feature_names)\n",
    "y = pd.DataFrame(iris.target, columns=['target'])\n",
    "df = pd.concat([X, y], axis=1)\n",
    "\n",
    "X_train, X_test, y_train, y_test = train_test_split(X, y, test_size=0.2, random_state=42)\n",
    "\n",
    "# Guardar los datos localmente (solo para el script de entrenamiento)\n",
    "# En un caso real, esto se subiría a S3 y el script lo leería de S3.\n",
    "# Pero para este ejemplo colaborativo simple, vamos a pasar los datos directamente en memoria\n",
    "# dentro del experimento para simplificar el flujo del cuaderno.\n",
    "print(\"Datos de Iris cargados y divididos.\")\n",
    "\n",
    "# 3. Definir y Entrenar un Modelo (Regresión Logística) dentro de un Experimento\n",
    "experiment_name = \"Iris-Clasificacion-Colaborativa-abc\"\n",
    "\n",
    "# Crear o cargar el Experimento\n",
    "try:\n",
    "    experiment = Experiment.load(experiment_name=experiment_name)\n",
    "    print(f\"Reanudando experimento: {experiment_name}\")\n",
    "except Exception:\n",
    "    experiment = Experiment.create(experiment_name=experiment_name)\n",
    "    print(f\"Creando nuevo experimento: {experiment_name}\")\n",
    "\n",
    "# Iniciar una nueva ejecución para el Colaborador A\n",
    "with Run(experiment_name=experiment_name, run_name=\"colaborador-A-logreg\") as run:\n",
    "    run.log_parameters({\n",
    "        \"model_type\": \"LogisticRegression\",\n",
    "        \"random_state\": 42,\n",
    "        \"test_size\": 0.2,\n",
    "        \"solver\": \"lbfgs\"\n",
    "    })\n",
    "\n",
    "    model_logreg = LogisticRegression(max_iter=200, solver='lbfgs')\n",
    "    model_logreg.fit(X_train, y_train.values.ravel()) # .values.ravel() para evitar UserWarning\n",
    "    predictions_logreg = model_logreg.predict(X_test)\n",
    "    accuracy_logreg = accuracy_score(y_test, predictions_logreg)\n",
    "\n",
    "    run.log_metrics({\"accuracy\": accuracy_logreg, \"colaborador\": \"A\"})\n",
    "    print(f\"Colaborador A: Precisión del modelo de Regresión Logística: {accuracy_logreg:.4f}\")\n",
    "\n",
    "    # Guardar el modelo para este experimento (opcional, pero buena práctica)\n",
    "    model_path = os.path.join(sagemaker.local.LocalSession().config.output_data_dir, \"model_logreg.joblib\")\n",
    "    joblib.dump(model_logreg, model_path)\n",
    "    run.log_artifact(\"model_logreg\", model_path)\n",
    "    print(f\"Colaborador A: Modelo guardado como artefacto del experimento.\")\n",
    "\n",
    "print(\"--- Colaborador A Finalizado ---\")"
   ]
  },
  {
   "cell_type": "code",
   "execution_count": null,
   "id": "e70d9a0f-3a92-4989-ab9a-f290ae3a1a8d",
   "metadata": {},
   "outputs": [],
   "source": []
  }
 ],
 "metadata": {
  "kernelspec": {
   "display_name": "Python 3 (ipykernel)",
   "language": "python",
   "name": "python3"
  },
  "language_info": {
   "codemirror_mode": {
    "name": "ipython",
    "version": 3
   },
   "file_extension": ".py",
   "mimetype": "text/x-python",
   "name": "python",
   "nbconvert_exporter": "python",
   "pygments_lexer": "ipython3",
   "version": "3.12.9"
  }
 },
 "nbformat": 4,
 "nbformat_minor": 5
}
